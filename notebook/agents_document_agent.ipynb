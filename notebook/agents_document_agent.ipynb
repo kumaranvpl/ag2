{
 "cells": [
  {
   "cell_type": "markdown",
   "metadata": {},
   "source": [
    "# DocumentAgent\n",
    "\n",
    "In this notebook, see how DocumentAgent, through natural language, can\n",
    "\n",
    "1. Ingest documents from a local file or URL\n",
    "2. and answer questions with RAG capability"
   ]
  },
  {
   "cell_type": "markdown",
   "metadata": {},
   "source": [
    "### Installation\n",
    "\n",
    "To get started with the document agent integration in AG2, follow these steps:\n",
    "\n",
    "Install AG2 with the `rag` extra:\n",
    "```bash\n",
    "pip install ag2[rag]\n",
    "```\n",
    "\n",
    "Note:\n",
    "\n",
    "   1. Currently, the DocumentAgent only supports questions related to the ingested documents.\n",
    "   2. Answers may not be accurate for documents that cannot be parsed correctly to Markdown format.\n",
    "\n",
    "You're all set! Now you can start using DocumentAgent feature in AG2."
   ]
  },
  {
   "cell_type": "code",
   "execution_count": null,
   "metadata": {},
   "outputs": [],
   "source": [
    "import os\n",
    "\n",
    "import autogen\n",
    "\n",
    "config_list = autogen.config_list_from_json(\n",
    "    \"../OAI_CONFIG_LIST\",\n",
    "    filter_dict={\n",
    "        \"model\": [\"gpt-4o\"],\n",
    "    },\n",
    ")\n",
    "os.environ[\"OPENAI_API_KEY\"] = config_list[0][\"api_key\"]\n",
    "\n",
    "llm_config = {\n",
    "    \"config_list\": config_list,\n",
    "}"
   ]
  },
  {
   "cell_type": "markdown",
   "metadata": {},
   "source": [
    "### Ingesting local documents and answering questions"
   ]
  },
  {
   "cell_type": "code",
   "execution_count": null,
   "metadata": {},
   "outputs": [],
   "source": [
    "from autogen.agents.experimental.document_agent.document_agent import DocumentAgent\n",
    "\n",
    "document_agent = DocumentAgent(llm_config=llm_config, collection_name=\"toast_report\")\n",
    "document_agent.run(\n",
    "    \"could you ingest ../test/agentchat/contrib/graph_rag/Toast_financial_report.pdf? What is the fiscal year 2024 financial summary?\",\n",
    "    max_turns=1,\n",
    ")"
   ]
  },
  {
   "cell_type": "markdown",
   "metadata": {},
   "source": [
    "### Fetching a webpage and answering questions"
   ]
  },
  {
   "cell_type": "code",
   "execution_count": null,
   "metadata": {},
   "outputs": [],
   "source": [
    "from autogen.agents.experimental.document_agent.document_agent import DocumentAgent\n",
    "\n",
    "document_agent = DocumentAgent(llm_config=llm_config, collection_name=\"news_reports\")\n",
    "document_agent.run(\n",
    "    \"could you read 'https://www.independent.co.uk/space/earth-core-inner-shape-change-b2695585.html' and summarize the article?\",\n",
    "    max_turns=1,\n",
    ")"
   ]
  }
 ],
 "metadata": {
  "front_matter": {
   "description": "RAG with DocumentAgent",
   "tags": [
    "agents",
    "documents",
    "RAG",
    "documentagent"
   ]
  },
  "kernelspec": {
   "display_name": "Python 3",
   "language": "python",
   "name": "python3"
  },
  "language_info": {
   "codemirror_mode": {
    "name": "ipython",
    "version": 3
   },
   "file_extension": ".py",
   "mimetype": "text/x-python",
   "name": "python",
   "nbconvert_exporter": "python",
   "pygments_lexer": "ipython3",
   "version": "3.9.21"
  }
 },
 "nbformat": 4,
 "nbformat_minor": 2
}
